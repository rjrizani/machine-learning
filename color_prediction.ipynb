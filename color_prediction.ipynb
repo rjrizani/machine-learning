{
  "nbformat": 4,
  "nbformat_minor": 0,
  "metadata": {
    "colab": {
      "provenance": [],
      "authorship_tag": "ABX9TyNRPjwlcGx8NKXTEa+pVHQc",
      "include_colab_link": true
    },
    "kernelspec": {
      "name": "python3",
      "display_name": "Python 3"
    },
    "language_info": {
      "name": "python"
    }
  },
  "cells": [
    {
      "cell_type": "markdown",
      "metadata": {
        "id": "view-in-github",
        "colab_type": "text"
      },
      "source": [
        "<a href=\"https://colab.research.google.com/github/rjrizani/machine-learning/blob/main/color_prediction.ipynb\" target=\"_parent\"><img src=\"https://colab.research.google.com/assets/colab-badge.svg\" alt=\"Open In Colab\"/></a>"
      ]
    },
    {
      "cell_type": "code",
      "execution_count": null,
      "metadata": {
        "id": "XAyPkRoRXbhO"
      },
      "outputs": [],
      "source": [
        "import numpy as np\n",
        "import matplotlib.pyplot as plt\n",
        "from sklearn.cluster import KMeans\n",
        "from sklearn.utils import shuffle\n",
        "from skimage import io"
      ]
    },
    {
      "cell_type": "code",
      "source": [
        "def closest_color(rgb_color):\n",
        "  color_names = {\n",
        "      'Red': (255, 0, 0),\n",
        "      'Green': (0, 255, 0),\n",
        "      'Blue': (0, 0, 255),\n",
        "      'Yellow': (255, 255, 0),\n",
        "      'Purple': (128, 0, 128),\n",
        "      'Orange': (255, 165, 0),\n",
        "      'Pink': (255, 192, 203),\n",
        "      'Brown': (165, 42, 42),\n",
        "      'Gray': (128, 128, 128),\n",
        "      'Black': (0, 0, 0),\n",
        "      'White': (255, 255, 255)\n",
        "  }\n",
        "\n",
        "  min_distance = float('inf')\n",
        "  closest_name = None\n",
        "\n",
        "  for name, color in color_names.items():\n",
        "      distance = np.linalg.norm(np.array(color) - np.array(rgb_color))\n",
        "      if distance < min_distance:\n",
        "          min_distance = distance\n",
        "          closest_name = name\n",
        "\n",
        "  return closest_name"
      ],
      "metadata": {
        "id": "tw_Sxjy0Ykfy"
      },
      "execution_count": null,
      "outputs": []
    },
    {
      "cell_type": "code",
      "source": [
        "#connect to gdrive\n",
        "from google.colab import drive\n",
        "drive.mount('/content/drive')"
      ],
      "metadata": {
        "colab": {
          "base_uri": "https://localhost:8080/"
        },
        "id": "Uy6aIV8IKKbD",
        "outputId": "a98f9c26-36ee-4239-e2ee-cf947f6eeeea"
      },
      "execution_count": null,
      "outputs": [
        {
          "output_type": "stream",
          "name": "stdout",
          "text": [
            "Mounted at /content/drive\n"
          ]
        }
      ]
    },
    {
      "cell_type": "code",
      "source": [
        "image = io.imread('/content/drive/MyDrive/brightcamp/python/buble image.jpg')"
      ],
      "metadata": {
        "id": "eWDS1piRKbOK"
      },
      "execution_count": null,
      "outputs": []
    },
    {
      "cell_type": "code",
      "source": [
        "#reshape the image to 2d array of pixels(height, width,  3color channels)\n",
        "image = np.array(image, dtype=np.float64) / 255.0\n",
        "w, h, d = original_shape = tuple(image.shape)\n",
        "assert d == 3  #pernyataan yang di gunakan untuk debugging atau validation\n",
        "image_array = np.reshape(image, (w * h, d))"
      ],
      "metadata": {
        "id": "sErZUtVedlC2"
      },
      "execution_count": null,
      "outputs": []
    },
    {
      "cell_type": "code",
      "source": [
        "n_colors = 5\n",
        "#fit k-mean clustering to image data\n",
        "k_means = KMeans(n_clusters=n_colors, random_state=42).fit(image_array)\n",
        "\n",
        "#get the RGB value of domniant color\n",
        "dominant_color = k_means.cluster_centers_\n",
        "\n",
        "\n",
        "#get color name for dominant colors\n",
        "color_names = [closest_color(color) for color in dominant_color]"
      ],
      "metadata": {
        "id": "jinp03_9ewYA"
      },
      "execution_count": null,
      "outputs": []
    },
    {
      "cell_type": "code",
      "source": [
        "print(\"Dominant Colors:\")\n",
        "print(color_names)"
      ],
      "metadata": {
        "colab": {
          "base_uri": "https://localhost:8080/"
        },
        "id": "3G0vqPDWKpwU",
        "outputId": "fe352ab4-3819-4af2-8621-1884d330a1f4"
      },
      "execution_count": null,
      "outputs": [
        {
          "output_type": "stream",
          "name": "stdout",
          "text": [
            "Dominant Colors:\n",
            "['Black', 'Black', 'Black', 'Black', 'Black']\n"
          ]
        }
      ]
    },
    {
      "cell_type": "code",
      "source": [
        "dominant_color"
      ],
      "metadata": {
        "colab": {
          "base_uri": "https://localhost:8080/"
        },
        "id": "i0VKPpslLYKu",
        "outputId": "a9994d43-e034-45a0-fb8f-8c8281dbbe69"
      },
      "execution_count": null,
      "outputs": [
        {
          "output_type": "execute_result",
          "data": {
            "text/plain": [
              "array([[0.43262435, 0.29909468, 0.68588015],\n",
              "       [0.94494916, 0.70293489, 0.11774391],\n",
              "       [0.91022002, 0.88930038, 0.87030123],\n",
              "       [0.1224999 , 0.62357025, 0.14797578],\n",
              "       [0.67790812, 0.16082655, 0.04997551]])"
            ]
          },
          "metadata": {},
          "execution_count": 13
        }
      ]
    },
    {
      "cell_type": "code",
      "source": [
        "import cv2\n",
        "import numpy as np\n",
        "from collections import Counter\n",
        "\n",
        "def detect_major_color(image_path):\n",
        "    # Load the image\n",
        "    image = cv2.imread(image_path)\n",
        "    # Convert the image to RGB format (OpenCV loads images in BGR by default)\n",
        "    image_rgb = cv2.cvtColor(image, cv2.COLOR_BGR2RGB)\n",
        "    # Reshape the image array into a list of pixel values\n",
        "    pixels = image_rgb.reshape(-1, 3)\n",
        "    # Convert the list of pixels to tuples for counting\n",
        "    pixel_tuples = [tuple(pixel) for pixel in pixels]\n",
        "    # Count the frequency of each color\n",
        "    color_counts = Counter(pixel_tuples)\n",
        "    # Identify the most common color\n",
        "    major_color = color_counts.most_common(1)[0][0]\n",
        "    return major_color\n",
        "\n",
        "# Example usage\n",
        "image_path = \"/content/drive/MyDrive/brightcamp/python/buble image.jpg\"  # Replace with your image file path\n",
        "major_color = detect_major_color(image_path)\n",
        "print(f\"The major color in the image is: {major_color}\")"
      ],
      "metadata": {
        "colab": {
          "base_uri": "https://localhost:8080/"
        },
        "id": "JPIZX63QMqW8",
        "outputId": "0a59c9f0-8301-4220-f2e5-f2f6bf4cd81d"
      },
      "execution_count": null,
      "outputs": [
        {
          "output_type": "stream",
          "name": "stdout",
          "text": [
            "The major color in the image is: (np.uint8(255), np.uint8(255), np.uint8(255))\n"
          ]
        }
      ]
    },
    {
      "cell_type": "code",
      "source": [
        "def rgb_to_color_name(rgb):\n",
        "    # Predefined dictionary of colors\n",
        "    color_names = {\n",
        "        (255, 255, 255): \"White\",\n",
        "        (0, 0, 0): \"Black\",\n",
        "        (255, 0, 0): \"Red\",\n",
        "        (0, 255, 0): \"Green\",\n",
        "        (0, 0, 255): \"Blue\",\n",
        "        (255, 255, 0): \"Yellow\",\n",
        "        (128, 0, 128): \"Purple\",\n",
        "        (0, 255, 255): \"Cyan\",\n",
        "        (255, 192, 203): \"Pink\",\n",
        "        (165, 42, 42): \"Brown\"\n",
        "    }\n",
        "\n",
        "    # Convert np.uint8 values to standard integers\n",
        "    rgb = tuple(map(int, rgb))\n",
        "\n",
        "    # Find and return the closest matching color\n",
        "    return color_names.get(rgb, \"Unknown Color\")\n",
        "\n",
        "# Example usage\n",
        "rgb_value = (np.uint8(255), np.uint8(255), np.uint8(255))\n",
        "color_name = rgb_to_color_name(rgb_value)\n",
        "print(f\"The color name is: {color_name}\")"
      ],
      "metadata": {
        "id": "IHkrEq6iNzrF",
        "outputId": "ce72051f-4ef5-42b4-cb17-62d7e80768f8",
        "colab": {
          "base_uri": "https://localhost:8080/"
        }
      },
      "execution_count": null,
      "outputs": [
        {
          "output_type": "stream",
          "name": "stdout",
          "text": [
            "The color name is: White\n"
          ]
        }
      ]
    }
  ]
}