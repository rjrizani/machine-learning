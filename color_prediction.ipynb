{
  "nbformat": 4,
  "nbformat_minor": 0,
  "metadata": {
    "colab": {
      "provenance": [],
      "authorship_tag": "ABX9TyN8359GgQ11fG9L9rltiEIA",
      "include_colab_link": true
    },
    "kernelspec": {
      "name": "python3",
      "display_name": "Python 3"
    },
    "language_info": {
      "name": "python"
    }
  },
  "cells": [
    {
      "cell_type": "markdown",
      "metadata": {
        "id": "view-in-github",
        "colab_type": "text"
      },
      "source": [
        "<a href=\"https://colab.research.google.com/github/rjrizani/machine-learning/blob/main/color_prediction.ipynb\" target=\"_parent\"><img src=\"https://colab.research.google.com/assets/colab-badge.svg\" alt=\"Open In Colab\"/></a>"
      ]
    },
    {
      "cell_type": "code",
      "execution_count": 1,
      "metadata": {
        "id": "XAyPkRoRXbhO"
      },
      "outputs": [],
      "source": [
        "import numpy as np\n",
        "import matplotlib.pyplot as plt\n",
        "from sklearn.cluster import KMeans\n",
        "from sklearn.utils import shuffle\n",
        "from skimage import io"
      ]
    },
    {
      "cell_type": "code",
      "source": [
        "def closest_color(rgb_color):\n",
        "  color_names = {\n",
        "      'Red': (255, 0, 0),\n",
        "      'Green': (0, 255, 0),\n",
        "      'Blue': (0, 0, 255),\n",
        "      'Yellow': (255, 255, 0),\n",
        "      'Purple': (128, 0, 128),\n",
        "      'Orange': (255, 165, 0),\n",
        "      'Pink': (255, 192, 203),\n",
        "      'Brown': (165, 42, 42),\n",
        "      'Gray': (128, 128, 128),\n",
        "      'Black': (0, 0, 0),\n",
        "      'White': (255, 255, 255)\n",
        "  }\n",
        "\n",
        "  min_distance = float('inf')\n",
        "  closest_name = None\n",
        "\n",
        "  for name, color in color_names.items():\n",
        "      distance = np.linalg.norm(np.array(color) - np.array(rgb_color))\n",
        "      if distance < min_distance:\n",
        "          min_distance = distance\n",
        "          closest_name = name\n",
        "\n",
        "  return closest_name"
      ],
      "metadata": {
        "id": "tw_Sxjy0Ykfy"
      },
      "execution_count": 3,
      "outputs": []
    },
    {
      "cell_type": "code",
      "source": [
        "#reshape the image to 2d array of pixels(height, width,  3color channels)\n",
        "image = np.array(image, dtype=np.float64) / 255.0\n",
        "w, h, d = original_shape = tuple(image.shape)\n",
        "assert d == 3  #pernyataan yang di gunakan untuk debugging atau validation\n",
        "image_array = np.reshape(image, (w * h, d))"
      ],
      "metadata": {
        "colab": {
          "base_uri": "https://localhost:8080/",
          "height": 211
        },
        "id": "sErZUtVedlC2",
        "outputId": "409598c4-f7f0-4777-8626-7c8cd2d2cfbb"
      },
      "execution_count": 7,
      "outputs": [
        {
          "output_type": "error",
          "ename": "NameError",
          "evalue": "name 'image' is not defined",
          "traceback": [
            "\u001b[0;31m---------------------------------------------------------------------------\u001b[0m",
            "\u001b[0;31mNameError\u001b[0m                                 Traceback (most recent call last)",
            "\u001b[0;32m<ipython-input-7-dfc7a8fe2d32>\u001b[0m in \u001b[0;36m<cell line: 0>\u001b[0;34m()\u001b[0m\n\u001b[1;32m      1\u001b[0m \u001b[0;31m#reshape the image to 2d array of pixels(height, width,  3color channels)\u001b[0m\u001b[0;34m\u001b[0m\u001b[0;34m\u001b[0m\u001b[0m\n\u001b[0;32m----> 2\u001b[0;31m \u001b[0mimage\u001b[0m \u001b[0;34m=\u001b[0m \u001b[0mnp\u001b[0m\u001b[0;34m.\u001b[0m\u001b[0marray\u001b[0m\u001b[0;34m(\u001b[0m\u001b[0mimage\u001b[0m\u001b[0;34m,\u001b[0m \u001b[0mdtype\u001b[0m\u001b[0;34m=\u001b[0m\u001b[0mnp\u001b[0m\u001b[0;34m.\u001b[0m\u001b[0mfloat64\u001b[0m\u001b[0;34m)\u001b[0m \u001b[0;34m/\u001b[0m \u001b[0;36m255.0\u001b[0m\u001b[0;34m\u001b[0m\u001b[0;34m\u001b[0m\u001b[0m\n\u001b[0m\u001b[1;32m      3\u001b[0m \u001b[0mw\u001b[0m\u001b[0;34m,\u001b[0m \u001b[0mh\u001b[0m\u001b[0;34m,\u001b[0m \u001b[0md\u001b[0m \u001b[0;34m=\u001b[0m \u001b[0moriginal_shape\u001b[0m \u001b[0;34m=\u001b[0m \u001b[0mtuple\u001b[0m\u001b[0;34m(\u001b[0m\u001b[0mimage\u001b[0m\u001b[0;34m.\u001b[0m\u001b[0mshape\u001b[0m\u001b[0;34m)\u001b[0m\u001b[0;34m\u001b[0m\u001b[0;34m\u001b[0m\u001b[0m\n\u001b[1;32m      4\u001b[0m \u001b[0;32massert\u001b[0m \u001b[0md\u001b[0m \u001b[0;34m==\u001b[0m \u001b[0;36m3\u001b[0m  \u001b[0;31m#pernyataan yang di gunakan untuk debugging atau validation\u001b[0m\u001b[0;34m\u001b[0m\u001b[0;34m\u001b[0m\u001b[0m\n\u001b[1;32m      5\u001b[0m \u001b[0mimage_array\u001b[0m \u001b[0;34m=\u001b[0m \u001b[0mnp\u001b[0m\u001b[0;34m.\u001b[0m\u001b[0mreshape\u001b[0m\u001b[0;34m(\u001b[0m\u001b[0mimage\u001b[0m\u001b[0;34m,\u001b[0m \u001b[0;34m(\u001b[0m\u001b[0mw\u001b[0m \u001b[0;34m*\u001b[0m \u001b[0mh\u001b[0m\u001b[0;34m,\u001b[0m \u001b[0md\u001b[0m\u001b[0;34m)\u001b[0m\u001b[0;34m)\u001b[0m\u001b[0;34m\u001b[0m\u001b[0;34m\u001b[0m\u001b[0m\n",
            "\u001b[0;31mNameError\u001b[0m: name 'image' is not defined"
          ]
        }
      ]
    },
    {
      "cell_type": "code",
      "source": [
        " n_colors = 5\n",
        " #fit k-mean clustering to image data\n",
        " k_means = KMeans(n_clusters=n_colors, random_state=42).fit(image_array)\n",
        "\n",
        "#get the RGB value of domniant color\n",
        "dominant_color = k_means.cluster_centers_\n",
        "\n",
        "\n",
        "#get color name for dominant colors\n",
        "color_names = [closest_color(color) for color in dominant_color]"
      ],
      "metadata": {
        "colab": {
          "base_uri": "https://localhost:8080/"
        },
        "id": "jinp03_9ewYA",
        "outputId": "dd07f6ac-e25d-4c43-ca86-48b2a77282ff"
      },
      "execution_count": 6,
      "outputs": [
        {
          "output_type": "stream",
          "name": "stdout",
          "text": [
            "yes\n"
          ]
        }
      ]
    }
  ]
}